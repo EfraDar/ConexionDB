{
  "nbformat": 4,
  "nbformat_minor": 0,
  "metadata": {
    "colab": {
      "name": "firebase.ipynb",
      "provenance": [],
      "collapsed_sections": [],
      "authorship_tag": "ABX9TyOHcv/jI5iKZjRq4mROPNXp",
      "include_colab_link": true
    },
    "kernelspec": {
      "name": "python3",
      "display_name": "Python 3"
    },
    "language_info": {
      "name": "python"
    }
  },
  "cells": [
    {
      "cell_type": "markdown",
      "metadata": {
        "id": "view-in-github",
        "colab_type": "text"
      },
      "source": [
        "<a href=\"https://colab.research.google.com/github/EfraDar/ConexionDB/blob/main/firebase.ipynb\" target=\"_parent\"><img src=\"https://colab.research.google.com/assets/colab-badge.svg\" alt=\"Open In Colab\"/></a>"
      ]
    },
    {
      "cell_type": "code",
      "metadata": {
        "colab": {
          "base_uri": "https://localhost:8080/"
        },
        "id": "cJoFPA7qXGvZ",
        "outputId": "4fe92de2-ab02-4776-9aa2-799c87304402"
      },
      "source": [
        "!pip install git+https://github.com/ozgur/python-firebase\n"
      ],
      "execution_count": 4,
      "outputs": [
        {
          "output_type": "stream",
          "text": [
            "Collecting git+https://github.com/ozgur/python-firebase\n",
            "  Cloning https://github.com/ozgur/python-firebase to /tmp/pip-req-build-0zzkfht8\n",
            "  Running command git clone -q https://github.com/ozgur/python-firebase /tmp/pip-req-build-0zzkfht8\n",
            "Requirement already satisfied: requests>=1.1.0 in /usr/local/lib/python3.7/dist-packages (from python-firebase==1.2.1) (2.23.0)\n",
            "Requirement already satisfied: urllib3!=1.25.0,!=1.25.1,<1.26,>=1.21.1 in /usr/local/lib/python3.7/dist-packages (from requests>=1.1.0->python-firebase==1.2.1) (1.24.3)\n",
            "Requirement already satisfied: chardet<4,>=3.0.2 in /usr/local/lib/python3.7/dist-packages (from requests>=1.1.0->python-firebase==1.2.1) (3.0.4)\n",
            "Requirement already satisfied: certifi>=2017.4.17 in /usr/local/lib/python3.7/dist-packages (from requests>=1.1.0->python-firebase==1.2.1) (2020.12.5)\n",
            "Requirement already satisfied: idna<3,>=2.5 in /usr/local/lib/python3.7/dist-packages (from requests>=1.1.0->python-firebase==1.2.1) (2.10)\n",
            "Building wheels for collected packages: python-firebase\n",
            "  Building wheel for python-firebase (setup.py) ... \u001b[?25l\u001b[?25hdone\n",
            "  Created wheel for python-firebase: filename=python_firebase-1.2.1-cp37-none-any.whl size=12533 sha256=40bc4a59c88f7335af073c5f7586fc96bf47ff5cbe9b33facc66655d7363570a\n",
            "  Stored in directory: /tmp/pip-ephem-wheel-cache-a93nez2w/wheels/ef/40/57/99d925b3495995b9930edfb8f4033cb9a8dbf838848d5a65ba\n",
            "Successfully built python-firebase\n",
            "Installing collected packages: python-firebase\n",
            "Successfully installed python-firebase-1.2.1\n"
          ],
          "name": "stdout"
        }
      ]
    },
    {
      "cell_type": "code",
      "metadata": {
        "id": "8dfWZLbxWI8v"
      },
      "source": [
        "from firebase import firebase"
      ],
      "execution_count": 5,
      "outputs": []
    },
    {
      "cell_type": "code",
      "metadata": {
        "colab": {
          "base_uri": "https://localhost:8080/"
        },
        "id": "WF3HbKerjB6H",
        "outputId": "32c92b0b-0a70-44c5-c2f6-bbb2b8527db2"
      },
      "source": [
        "class Student:\n",
        "  def __init__(self,name,msj):\n",
        "    self.name = name\n",
        "    self.msj = msj\n",
        "\n",
        "s1 = Student(\"Victor\",\"Ingesu si me salio\")\n",
        "data_s1 = vars(s1)\n",
        "print(data_s1)\n"
      ],
      "execution_count": 8,
      "outputs": [
        {
          "output_type": "stream",
          "text": [
            "{'name': 'Victor', 'msj': 'Ingesu si me salio'}\n"
          ],
          "name": "stdout"
        }
      ]
    },
    {
      "cell_type": "code",
      "metadata": {
        "id": "hDqAqpl5Z7v4",
        "colab": {
          "base_uri": "https://localhost:8080/"
        },
        "outputId": "1e3c08d7-d796-43d3-8d4e-011dafdae921"
      },
      "source": [
        "db = firebase.FirebaseApplication(\"https://pythonfire-cb1ab-default-rtdb.firebaseio.com/\",None)\n",
        "\n",
        "results = db.get('/asistencia',None)\n",
        "\n",
        "print(results)"
      ],
      "execution_count": 11,
      "outputs": [
        {
          "output_type": "stream",
          "text": [
            "{'-MZVjKGpcmhF3hBFgBfT': {'msj': 'sisepuede', 'name': 'lasusana'}, '-MZVpgJof1lGsaXFOrfe': {'msj': 'Asistencia', 'name': 'Hassan Colio '}, '-MZaJn7Iw24jABQJFO6V': {'msj': 'Ingesu si me salio', 'name': 'Victor'}}\n"
          ],
          "name": "stdout"
        }
      ]
    },
    {
      "cell_type": "code",
      "metadata": {
        "colab": {
          "base_uri": "https://localhost:8080/"
        },
        "id": "CIjpY5sAUhEq",
        "outputId": "70c1efa0-f124-46f8-da23-1b23b5932564"
      },
      "source": [
        "db.post('/asistencia/',data_s1)\n",
        "print(\"Registre asistencia\")"
      ],
      "execution_count": 10,
      "outputs": [
        {
          "output_type": "stream",
          "text": [
            "Registre asistencia\n"
          ],
          "name": "stdout"
        }
      ]
    }
  ]
}